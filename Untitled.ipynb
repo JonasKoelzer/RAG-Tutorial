{
 "cells": [
  {
   "cell_type": "markdown",
   "id": "4d26975b-1535-4425-9115-71ec2d3fbcc4",
   "metadata": {},
   "source": [
    "# Import"
   ]
  },
  {
   "cell_type": "code",
   "execution_count": null,
   "id": "5a8f7480-8c96-48f8-9ed8-7fc98ebaa572",
   "metadata": {},
   "outputs": [],
   "source": [
    "import re\n",
    "import fitz\n",
    "import pandas as pd\n",
    "from tqdm.notebook import tqdm\n",
    "from langchain import PromptTemplate\n",
    "from langchain.docstore.document import Document\n",
    "from langchain.embeddings import HuggingFaceEmbeddings\n",
    "from langchain.vectorstores import Chroma\n",
    "from langchain.llms import HuggingFacePipeline\n",
    "from langchain.chains.question_answering import load_qa_chain\n",
    "from transformers import pipeline"
   ]
  },
  {
   "cell_type": "markdown",
   "id": "df8e6396-3798-4e66-aec9-9af888957be9",
   "metadata": {},
   "source": [
    "# Extracting the data"
   ]
  },
  {
   "cell_type": "markdown",
   "id": "65b4bd89-46fe-471b-97c5-88ff92e8345d",
   "metadata": {},
   "source": [
    "## Extraction function"
   ]
  },
  {
   "cell_type": "code",
   "execution_count": null,
   "id": "f28bf874-6859-4196-b64a-a8fdf9a4c4fa",
   "metadata": {},
   "outputs": [],
   "source": [
    "summarizer = pipeline(\"summarization\", model=\"sshleifer/distilbart-cnn-12-6\", device_map=\"auto\")\n",
    "\n",
    "\n",
    "def extract_text(pdf_file):\n",
    "    pdf_text = []\n",
    "    summaries = []\n",
    "    page_numbers = []\n",
    "    hyperlinks = []\n",
    "\n",
    "    pdf_document = fitz.open(pdf_file)\n",
    "\n",
    "    for page_num in tqdm(range(len(pdf_document))):\n",
    "        page = pdf_document[page_num]\n",
    "        text = page.get_text()\n",
    "\n",
    "        # Replace \"\\n\" characters with spaces\n",
    "        text_cleaned = re.sub(r'\\n', ' ', text)\n",
    "\n",
    "        # Replace unidentified characters with spaces\n",
    "        text_cleaned = re.sub(r'�', ' ', text_cleaned)\n",
    "\n",
    "        if len(text_cleaned) > 4000:\n",
    "            summary = summarizer(text_cleaned)[0]['summary_text']\n",
    "        else:\n",
    "            summary = text_cleaned\n",
    "        \n",
    "        links = page.get_links()\n",
    "        link_dict = {}\n",
    "        for link in links:\n",
    "            link_dict[link.get('uri')] = link.get('rect')\n",
    "\n",
    "        pdf_text.append(text_cleaned)\n",
    "        page_numbers.append(page_num + 1)\n",
    "        hyperlinks.append(link_dict)\n",
    "        summaries.append(summary)\n",
    "\n",
    "    return pdf_text, page_numbers, hyperlinks, summaries\n"
   ]
  },
  {
   "cell_type": "markdown",
   "id": "91488ef1-d4ec-4c77-afdf-8a62745fc955",
   "metadata": {},
   "source": [
    "## Content extraction"
   ]
  },
  {
   "cell_type": "code",
   "execution_count": null,
   "id": "9a9413e9-98da-4bf9-a553-29bfeaa283d6",
   "metadata": {},
   "outputs": [],
   "source": [
    "pdf_file_path = # Filepath goes here\n",
    "pdf_text, page_numbers, hyperlinks, summaries = extract_text_and_hyperlinks(pdf_file_path)\n",
    "\n",
    "data = {\n",
    "    'Page Number': page_numbers,\n",
    "    'Text Block': pdf_text,\n",
    "    'Summary': summaries,\n",
    "    'Hyperlinks': hyperlinks\n",
    "}\n",
    "\n",
    "df = pd.DataFrame(data)"
   ]
  },
  {
   "cell_type": "markdown",
   "id": "17c34bca-a0cd-4690-a522-0465f94d2827",
   "metadata": {},
   "source": [
    "# Creating the Database"
   ]
  },
  {
   "cell_type": "code",
   "execution_count": null,
   "id": "5d24fd0a-9d61-490f-af96-7444f2b3d38d",
   "metadata": {},
   "outputs": [],
   "source": [
    "persitent_path = \"./chromadb/\"\n",
    " \n",
    "documents = [Document(page_content=r[\"Summary\"], metadata={\"source\": r[\"Page Number\"]}) for index, r  in df.iterrows()]\n",
    "\n",
    "db = Chroma.from_documents(collection_name=\"document_content\", documents=documents, embedding=hf_embed, persist_directory=persitent_path)\n",
    "db.similarity_search(\"dummy\") \n",
    "db.persist()"
   ]
  },
  {
   "cell_type": "markdown",
   "id": "f70b0565-15d4-4f3f-8ffb-816f1199a8f6",
   "metadata": {},
   "source": [
    "# Extracting Data from the Database"
   ]
  },
  {
   "cell_type": "code",
   "execution_count": null,
   "id": "83e40f6f-b2b5-4d69-afb0-eeac6d97ed7a",
   "metadata": {},
   "outputs": [],
   "source": [
    "persitent_path = \"./chromadb/\"\n",
    "\n",
    "hf_embed = HuggingFaceEmbeddings(model_name=\"sentence-transformers/all-mpnet-base-v2\")\n",
    "db = Chroma(collection_name=\"document_content\", embedding_function=hf_embed, persist_directory=persitent_path)"
   ]
  },
  {
   "cell_type": "markdown",
   "id": "276487ed-c2b7-4f68-97eb-1022caac5d1a",
   "metadata": {},
   "source": [
    "# Retrieving relevant documents from ChromaDB"
   ]
  },
  {
   "cell_type": "markdown",
   "id": "edae5ae6-3341-49f8-b8eb-d02680dd7000",
   "metadata": {},
   "source": [
    "## Functions"
   ]
  },
  {
   "cell_type": "code",
   "execution_count": null,
   "id": "e6d3e04f-5565-40ec-a049-d8620871d8ee",
   "metadata": {},
   "outputs": [],
   "source": [
    "def get_similar_docs(question, similar_doc_count):\n",
    "  return db.similarity_search(question, k=similar_doc_count)"
   ]
  },
  {
   "cell_type": "markdown",
   "id": "2dd64625-663c-4d3c-acba-f2db24bd0271",
   "metadata": {},
   "source": [
    "## Search"
   ]
  },
  {
   "cell_type": "code",
   "execution_count": null,
   "id": "1ebfcf3f-b6a3-403e-913c-24895b30c3c2",
   "metadata": {},
   "outputs": [],
   "source": [
    "for doc in get_similar_docs(\"What is the difference between an overlap and an inline junction?\", 2):\n",
    "  print(i)\n",
    "  i+=1\n",
    "  print(doc.metadata)\n",
    "  print(doc.page_content)"
   ]
  },
  {
   "cell_type": "markdown",
   "id": "ef555bd2-a101-43d6-9499-185cdc419542",
   "metadata": {},
   "source": [
    "## Chatbot prompt"
   ]
  },
  {
   "cell_type": "code",
   "execution_count": null,
   "id": "434487ac-9d8f-4dc3-9076-6c62392a3fef",
   "metadata": {},
   "outputs": [],
   "source": [
    "def answer_question_no_pipeline(question):\n",
    "    content = \"\"\n",
    "    for doc in get_similar_docs(question, 3):\n",
    "        content = content + doc.page_content + \"\"\"\n",
    "\n",
    "        \"\"\"\n",
    "        \n",
    "    print(content)\n",
    "    generate_text = pipeline(model=\"mistralai/mistral-7b-instruct-v0.1\", trust_remote_code=True, device_map=\"auto\")\n",
    "    text = \"\"\"\n",
    "            <s>[INST] Below is an instruction that describes a task. Write an explanation that appropriately completes the question.\n",
    "            You are a STEM scientist and your job is to provide helpful information. \n",
    "            Use only information in the following paragraphs (References) to answer the question at the end. Explain the answer with reference to these paragraphs. If you don't know, say that you do not know.\n",
    "            References:\n",
    "            Topological insulators represent a new quantum state of matter which is characterized by peculiar edge or surface states that show up due to a topological character of the bulk wave functions. \n",
    "            This review presents a pedagogical account on topological insulator materials with an emphasis on basic theory and materials properties. \n",
    "            After presenting a historical perspective and basic theories of topological insulators, it discusses all the topological insulator materials discovered as of May 2013, with some illustrative descriptions of the developments in materials discoveries in which the author was involved. \n",
    "            A summary is given for possible ways to confirm the topological nature in a candidate material. \n",
    "            Various synthesis techniques as well as the defect chemistry that are important for realizing bulk-insulating samples are discussed. \n",
    "            Characteristic properties of topological insulators are discussed with an emphasis on transport properties. \n",
    "            In particular, the Dirac fermion physics and the resulting peculiar quantum oscillation patterns are discussed in detail. \n",
    "            It is emphasized that proper analyses of quantum oscillations make it possible to unambiguously identify surface Dirac fermions through transport measurements. \n",
    "            The prospects of topological insulator materials for elucidating novel quantum phenomena that await discovery conclude the review.\n",
    "            \n",
    "            Question: \n",
    "            What are topological insualtors?\n",
    "\n",
    "            Answer: \n",
    "            A topological insulator (TI) is characterized by peculiar edge or surface states. \n",
    "            Those states emerge due to a topological character of the bulk wave functions.\n",
    "            TIs can be realized with different materials and they are considered a new quantum state of matter (discovered in 2013).\n",
    "            \n",
    "            [/INST]\n",
    "            References: \n",
    "        \"\"\" + content + \"\"\" </s>\n",
    "            \n",
    "            [INST] Question: \n",
    "            \"\"\" + question +\"\"\"\n",
    "            Answer:\n",
    "            [/INST]\"\"\"\n",
    "    res = generate_text(text)\n",
    "    return res[0][\"generated_text\"]"
   ]
  },
  {
   "cell_type": "markdown",
   "id": "e956577b-56d7-47b8-bec4-e901f4e024e5",
   "metadata": {},
   "source": [
    "## Test"
   ]
  },
  {
   "cell_type": "code",
   "execution_count": null,
   "id": "8de12d62-79aa-4ec0-990d-21093377d206",
   "metadata": {},
   "outputs": [],
   "source": [
    "question = \"What is the difference between an overlap and an inline junction?\"\n",
    "\n",
    "answer1 = answer_question_no_pipeline(question)"
   ]
  }
 ],
 "metadata": {
  "kernelspec": {
   "display_name": "Polaris1_kernel",
   "language": "python",
   "name": "polaris1_kernel"
  },
  "language_info": {
   "codemirror_mode": {
    "name": "ipython",
    "version": 3
   },
   "file_extension": ".py",
   "mimetype": "text/x-python",
   "name": "python",
   "nbconvert_exporter": "python",
   "pygments_lexer": "ipython3",
   "version": "3.9.6"
  }
 },
 "nbformat": 4,
 "nbformat_minor": 5
}
